{
 "cells": [
  {
   "cell_type": "markdown",
   "metadata": {},
   "source": [
    "#### <a id='top'></a>\n",
    "\n",
    "# Creating a Model for a Players Wins Contributed Above Average\n",
    "\n",
    "***\n",
    "## Step 1: Create a Model that relates Net Goals Scored to Wins for teams\n",
    "***"
   ]
  },
  {
   "cell_type": "markdown",
   "metadata": {},
   "source": [
    "### In baseball the run differential (runs scored - runs given up) is often used as a solid estimator for how many games a team has won. So here I plan on seeing if there is a similarly strong correlation between net goals and wins in hockey because we need a model to help us convert a player's contributed goal differential to estimated wins contributed."
   ]
  },
  {
   "cell_type": "code",
   "execution_count": 31,
   "metadata": {},
   "outputs": [
    {
     "data": {
      "text/plain": [
       "<matplotlib.collections.PathCollection at 0x7f90c074ac10>"
      ]
     },
     "execution_count": 31,
     "metadata": {},
     "output_type": "execute_result"
    },
    {
     "data": {
      "image/png": "[encoded data removed]",
      "text/plain": [
       "<Figure size 432x288 with 1 Axes>"
      ]
     },
     "metadata": {
      "needs_background": "light"
     },
     "output_type": "display_data"
    }
   ],
   "source": [
    "#Load code dependancies\n",
    "import pandas as pd\n",
    "import numpy as np\n",
    "import matplotlib.pylab as plt\n",
    "import statsmodels.api as sm\n",
    "%matplotlib inline\n",
    "\n",
    "#Load the Data Set (already cleaned)\n",
    "teamsdata = pd.read_csv('teams.csv', sep='\\t');\n",
    "\n",
    "#Create net goals\n",
    "teamsdata['NG'] = teamsdata['GF'] - teamsdata['GA']\n",
    "\n",
    "#As you can see there is a clear and very linear correlation between goals for and wins\n",
    "plt.scatter(teamsdata['NG'], teamsdata['W'])"
   ]
  },
  {
   "cell_type": "markdown",
   "metadata": {},
   "source": [
    "### As it turns out the goal differential appears to correlate very very strongly with wins. Next I will plug this data into statsmodels.api OLS method which will fit a model to this data using the Ordinary Least Squares methodology which is fairly standard when creating a linear regression model. This will also give use data about the fit that can help us decide if the model is precise enough to be useful in estimating how many wins a player has contributed to a team."
   ]
  },
  {
   "cell_type": "code",
   "execution_count": 32,
   "metadata": {},
   "outputs": [
    {
     "data": {
      "text/html": [
       "<table class=\"simpletable\">\n",
       "<caption>OLS Regression Results</caption>\n",
       "<tr>\n",
       "  <th>Dep. Variable:</th>            <td>W</td>        <th>  R-squared:         </th> <td>   0.950</td>\n",
       "</tr>\n",
       "<tr>\n",
       "  <th>Model:</th>                   <td>OLS</td>       <th>  Adj. R-squared:    </th> <td>   0.948</td>\n",
       "</tr>\n",
       "<tr>\n",
       "  <th>Method:</th>             <td>Least Squares</td>  <th>  F-statistic:       </th> <td>   546.7</td>\n",
       "</tr>\n",
       "<tr>\n",
       "  <th>Date:</th>             <td>Thu, 01 Apr 2021</td> <th>  Prob (F-statistic):</th> <td>2.29e-20</td>\n",
       "</tr>\n",
       "<tr>\n",
       "  <th>Time:</th>                 <td>03:28:33</td>     <th>  Log-Likelihood:    </th> <td> -51.860</td>\n",
       "</tr>\n",
       "<tr>\n",
       "  <th>No. Observations:</th>      <td>    31</td>      <th>  AIC:               </th> <td>   107.7</td>\n",
       "</tr>\n",
       "<tr>\n",
       "  <th>Df Residuals:</th>          <td>    29</td>      <th>  BIC:               </th> <td>   110.6</td>\n",
       "</tr>\n",
       "<tr>\n",
       "  <th>Df Model:</th>              <td>     1</td>      <th>                     </th>     <td> </td>   \n",
       "</tr>\n",
       "<tr>\n",
       "  <th>Covariance Type:</th>      <td>nonrobust</td>    <th>                     </th>     <td> </td>   \n",
       "</tr>\n",
       "</table>\n",
       "<table class=\"simpletable\">\n",
       "<tr>\n",
       "    <td></td>       <th>coef</th>     <th>std err</th>      <th>t</th>      <th>P>|t|</th>  <th>[0.025</th>    <th>0.975]</th>  \n",
       "</tr>\n",
       "<tr>\n",
       "  <th>const</th> <td>   34.9032</td> <td>    0.239</td> <td>  145.803</td> <td> 0.000</td> <td>   34.414</td> <td>   35.393</td>\n",
       "</tr>\n",
       "<tr>\n",
       "  <th>NG</th>    <td>    0.1609</td> <td>    0.007</td> <td>   23.382</td> <td> 0.000</td> <td>    0.147</td> <td>    0.175</td>\n",
       "</tr>\n",
       "</table>\n",
       "<table class=\"simpletable\">\n",
       "<tr>\n",
       "  <th>Omnibus:</th>       <td> 1.163</td> <th>  Durbin-Watson:     </th> <td>   1.410</td>\n",
       "</tr>\n",
       "<tr>\n",
       "  <th>Prob(Omnibus):</th> <td> 0.559</td> <th>  Jarque-Bera (JB):  </th> <td>   0.910</td>\n",
       "</tr>\n",
       "<tr>\n",
       "  <th>Skew:</th>          <td>-0.407</td> <th>  Prob(JB):          </th> <td>   0.635</td>\n",
       "</tr>\n",
       "<tr>\n",
       "  <th>Kurtosis:</th>      <td> 2.799</td> <th>  Cond. No.          </th> <td>    34.8</td>\n",
       "</tr>\n",
       "</table><br/><br/>Notes:<br/>[1] Standard Errors assume that the covariance matrix of the errors is correctly specified."
      ],
      "text/plain": [
       "<class 'statsmodels.iolib.summary.Summary'>\n",
       "\"\"\"\n",
       "                            OLS Regression Results                            \n",
       "==============================================================================\n",
       "Dep. Variable:                      W   R-squared:                       0.950\n",
       "Model:                            OLS   Adj. R-squared:                  0.948\n",
       "Method:                 Least Squares   F-statistic:                     546.7\n",
       "Date:                Thu, 01 Apr 2021   Prob (F-statistic):           2.29e-20\n",
       "Time:                        03:28:33   Log-Likelihood:                -51.860\n",
       "No. Observations:                  31   AIC:                             107.7\n",
       "Df Residuals:                      29   BIC:                             110.6\n",
       "Df Model:                           1                                         \n",
       "Covariance Type:            nonrobust                                         \n",
       "==============================================================================\n",
       "                 coef    std err          t      P>|t|      [0.025      0.975]\n",
       "------------------------------------------------------------------------------\n",
       "const         34.9032      0.239    145.803      0.000      34.414      35.393\n",
       "NG             0.1609      0.007     23.382      0.000       0.147       0.175\n",
       "==============================================================================\n",
       "Omnibus:                        1.163   Durbin-Watson:                   1.410\n",
       "Prob(Omnibus):                  0.559   Jarque-Bera (JB):                0.910\n",
       "Skew:                          -0.407   Prob(JB):                        0.635\n",
       "Kurtosis:                       2.799   Cond. No.                         34.8\n",
       "==============================================================================\n",
       "\n",
       "Notes:\n",
       "[1] Standard Errors assume that the covariance matrix of the errors is correctly specified.\n",
       "\"\"\""
      ]
     },
     "execution_count": 32,
     "metadata": {},
     "output_type": "execute_result"
    }
   ],
   "source": [
    "#fit a model using Ordinary least squares\n",
    "\n",
    "X = sm.add_constant(teamsdata['NG'])\n",
    "\n",
    "model = sm.OLS(teamsdata['W'], X).fit()\n",
    "\n",
    "model.summary()"
   ]
  },
  {
   "cell_type": "markdown",
   "metadata": {},
   "source": [
    "### It turns out goal differential is insanely good at predicting wins, with 95% of win totals being explained by our model according to our $R^2$ statistic. Additionally the p value for both our constant and our variable (net goals) as well as the P>|F| (essentially a p-value for both our constant and variable) are insanely low and statistically significant beyond a shadow of a doubt.\n",
    "\n",
    "### Using the values above we can now show our model as the function \n",
    "\n",
    "### $$TeamWins \\approx 34.9032 + 0.1608 * TeamNetGoals$$\n",
    "\n",
    "### Now for fun lets lot this function alongside the scatter plot"
   ]
  },
  {
   "cell_type": "code",
   "execution_count": 44,
   "metadata": {},
   "outputs": [],
   "source": [
    "#Create the function in a way it can be added to a plot"
   ]
  },
  {
   "cell_type": "code",
   "execution_count": 33,
   "metadata": {},
   "outputs": [
    {
     "data": {
      "text/plain": [
       "[<matplotlib.lines.Line2D at 0x7f90c0739dc0>]"
      ]
     },
     "execution_count": 33,
     "metadata": {},
     "output_type": "execute_result"
    },
    {
     "data": {
      "image/png": "[encoded data removed]",
      "text/plain": [
       "<Figure size 432x288 with 1 Axes>"
      ]
     },
     "metadata": {
      "needs_background": "light"
     },
     "output_type": "display_data"
    }
   ],
   "source": [
    "x = np.linspace(-140,60,100)\n",
    "y = 34.903 + 0.1609*x;\n",
    "\n",
    "plt.scatter(teamsdata['NG'], teamsdata['W'])\n",
    "plt.plot(x, y, '-r')"
   ]
  },
  {
   "cell_type": "markdown",
   "metadata": {},
   "source": [
    "***\n",
    "## Step 2: Attribute offensive production\n",
    "***\n",
    "\n",
    "### Luckily there is already an amazing stat for this in hockey called Goals Created, which is calculated using goals and assists, and the sum of the goals created for all players on a team is equal to the total number of goals scored by this team which makes it almost perfect for us out of the box.\n",
    "\n",
    "### However once we have testing set up and other larger hurdles figured out we may want to revisit this and see if we can make something that attributes offensive goals cotnributed even more accurately."
   ]
  },
  {
   "cell_type": "markdown",
   "metadata": {},
   "source": [
    "***\n",
    "## Step 3: Attribute Defensive Production\n",
    "***\n",
    "\n",
    "### This is a much larger challenge, right now we are taking multiple approaches, the approach I am taking involves looking through important defensive metrics and adding them into a Multiple Linear Regression model and cutting out whatever statistics are least significant until we have a model that is accurate enough to be useful.\n",
    "\n",
    "### To achieve this I am finding aggregate stats for the teams and trying to model them to goals allowed, if we can do this accurately we can then apply the same thing on a smaller scale for the players.\n",
    "\n",
    "### For example let us say we have 2 stats A and B that achieve an $R^2$ value of at least .90 (%90 of data being explained by the model) and it is found that the model is \n",
    "\n",
    "### $$TeamGoalsAllowed \\approx Constant + coefficient*TeamA + coefficient*TeamB$$\n",
    "\n",
    "### We Could then apply that to players as we have now modeled the relationship between A + B and Goals allowed so we would use\n",
    "\n",
    "### $$PlayerGoalsAllowed \\approx Constant + coefficient*PlayerA + coefficient*PlayerB$$\n",
    "\n",
    "### First we need to load in important data to use, aggregate it on a team level, and add to the team dataframe, I start by looking at Hits and Blocks, but also load in +/- which we will be using later"
   ]
  },
  {
   "cell_type": "code",
   "execution_count": 34,
   "metadata": {},
   "outputs": [
    {
     "name": "stderr",
     "output_type": "stream",
     "text": [
      "<ipython-input-34-fe6bba670b76>:25: SettingWithCopyWarning: \n",
      "A value is trying to be set on a copy of a slice from a DataFrame\n",
      "\n",
      "See the caveats in the documentation: https://pandas.pydata.org/pandas-docs/stable/user_guide/indexing.html#returning-a-view-versus-a-copy\n",
      "  teamsdata['+/-'][i] = playersagg['+/-'][j]\n",
      "<ipython-input-34-fe6bba670b76>:26: SettingWithCopyWarning: \n",
      "A value is trying to be set on a copy of a slice from a DataFrame\n",
      "\n",
      "See the caveats in the documentation: https://pandas.pydata.org/pandas-docs/stable/user_guide/indexing.html#returning-a-view-versus-a-copy\n",
      "  teamsdata['HIT'][i] = playersagg['HIT'][j]\n",
      "<ipython-input-34-fe6bba670b76>:27: SettingWithCopyWarning: \n",
      "A value is trying to be set on a copy of a slice from a DataFrame\n",
      "\n",
      "See the caveats in the documentation: https://pandas.pydata.org/pandas-docs/stable/user_guide/indexing.html#returning-a-view-versus-a-copy\n",
      "  teamsdata['BLK'][i] = playersagg['BLK'][j]\n"
     ]
    }
   ],
   "source": [
    "#Load in player data\n",
    "playersdata = pd.read_csv('players.csv', sep=',')\n",
    "\n",
    "#Get rid of goalies from data bc their stats are very very different\n",
    "playersdata = playersdata[playersdata.Pos != 'G']\n",
    "\n",
    "#Get rid of anyone who was traded as we cannot yet account for that, may want to look into later to improve accuracy\n",
    "playersdata = playersdata[playersdata.Tm != 'TOT']\n",
    "\n",
    "#Players aggregated data on defensive metrics by team\n",
    "playersagg = playersdata[['Tm', 'HIT', 'BLK', '+/-']].copy()\n",
    "aggregate_functions = {'+/-': 'mean', 'HIT' : 'mean', 'BLK': 'mean'}\n",
    "playersagg = playersagg.groupby(playersagg['Tm'], as_index=False).aggregate(aggregate_functions)\n",
    "\n",
    "#find the total number of blocks for each team\n",
    "teamsdata = teamsdata.sort_values('Name')\n",
    "teamsdata['+/-'] = 0\n",
    "teamsdata['HIT'] = 0\n",
    "teamsdata['BLK'] = 0\n",
    "i = 0\n",
    "while(i < 31):\n",
    "    j = 0\n",
    "    while(j < 31):\n",
    "        if(teamsdata['Name'][i] == playersagg['Tm'][j]):\n",
    "            teamsdata['+/-'][i] = playersagg['+/-'][j]\n",
    "            teamsdata['HIT'][i] = playersagg['HIT'][j]\n",
    "            teamsdata['BLK'][i] = playersagg['BLK'][j]\n",
    "        j+=1\n",
    "    i += 1"
   ]
  },
  {
   "cell_type": "markdown",
   "metadata": {},
   "source": [
    "### Now let us apply OLS Multiple Regression and see if Hits and Blocks can be used to accurately estimate goals given up"
   ]
  },
  {
   "cell_type": "code",
   "execution_count": 35,
   "metadata": {},
   "outputs": [
    {
     "data": {
      "text/html": [
       "<table class=\"simpletable\">\n",
       "<caption>OLS Regression Results</caption>\n",
       "<tr>\n",
       "  <th>Dep. Variable:</th>           <td>NG</td>        <th>  R-squared:         </th> <td>   0.002</td>\n",
       "</tr>\n",
       "<tr>\n",
       "  <th>Model:</th>                   <td>OLS</td>       <th>  Adj. R-squared:    </th> <td>  -0.069</td>\n",
       "</tr>\n",
       "<tr>\n",
       "  <th>Method:</th>             <td>Least Squares</td>  <th>  F-statistic:       </th> <td> 0.03237</td>\n",
       "</tr>\n",
       "<tr>\n",
       "  <th>Date:</th>             <td>Thu, 01 Apr 2021</td> <th>  Prob (F-statistic):</th>  <td> 0.968</td> \n",
       "</tr>\n",
       "<tr>\n",
       "  <th>Time:</th>                 <td>03:28:45</td>     <th>  Log-Likelihood:    </th> <td> -153.98</td>\n",
       "</tr>\n",
       "<tr>\n",
       "  <th>No. Observations:</th>      <td>    31</td>      <th>  AIC:               </th> <td>   314.0</td>\n",
       "</tr>\n",
       "<tr>\n",
       "  <th>Df Residuals:</th>          <td>    28</td>      <th>  BIC:               </th> <td>   318.3</td>\n",
       "</tr>\n",
       "<tr>\n",
       "  <th>Df Model:</th>              <td>     2</td>      <th>                     </th>     <td> </td>   \n",
       "</tr>\n",
       "<tr>\n",
       "  <th>Covariance Type:</th>      <td>nonrobust</td>    <th>                     </th>     <td> </td>   \n",
       "</tr>\n",
       "</table>\n",
       "<table class=\"simpletable\">\n",
       "<tr>\n",
       "    <td></td>       <th>coef</th>     <th>std err</th>      <th>t</th>      <th>P>|t|</th>  <th>[0.025</th>    <th>0.975]</th>  \n",
       "</tr>\n",
       "<tr>\n",
       "  <th>const</th> <td>    0.3076</td> <td>   23.330</td> <td>    0.013</td> <td> 0.990</td> <td>  -47.482</td> <td>   48.097</td>\n",
       "</tr>\n",
       "<tr>\n",
       "  <th>HIT</th>   <td>   -0.2172</td> <td>    0.882</td> <td>   -0.246</td> <td> 0.807</td> <td>   -2.023</td> <td>    1.589</td>\n",
       "</tr>\n",
       "<tr>\n",
       "  <th>BLK</th>   <td>    0.3277</td> <td>    1.355</td> <td>    0.242</td> <td> 0.811</td> <td>   -2.448</td> <td>    3.103</td>\n",
       "</tr>\n",
       "</table>\n",
       "<table class=\"simpletable\">\n",
       "<tr>\n",
       "  <th>Omnibus:</th>       <td>14.356</td> <th>  Durbin-Watson:     </th> <td>   2.136</td>\n",
       "</tr>\n",
       "<tr>\n",
       "  <th>Prob(Omnibus):</th> <td> 0.001</td> <th>  Jarque-Bera (JB):  </th> <td>  16.738</td>\n",
       "</tr>\n",
       "<tr>\n",
       "  <th>Skew:</th>          <td>-1.220</td> <th>  Prob(JB):          </th> <td>0.000232</td>\n",
       "</tr>\n",
       "<tr>\n",
       "  <th>Kurtosis:</th>      <td> 5.646</td> <th>  Cond. No.          </th> <td>    200.</td>\n",
       "</tr>\n",
       "</table><br/><br/>Notes:<br/>[1] Standard Errors assume that the covariance matrix of the errors is correctly specified."
      ],
      "text/plain": [
       "<class 'statsmodels.iolib.summary.Summary'>\n",
       "\"\"\"\n",
       "                            OLS Regression Results                            \n",
       "==============================================================================\n",
       "Dep. Variable:                     NG   R-squared:                       0.002\n",
       "Model:                            OLS   Adj. R-squared:                 -0.069\n",
       "Method:                 Least Squares   F-statistic:                   0.03237\n",
       "Date:                Thu, 01 Apr 2021   Prob (F-statistic):              0.968\n",
       "Time:                        03:28:45   Log-Likelihood:                -153.98\n",
       "No. Observations:                  31   AIC:                             314.0\n",
       "Df Residuals:                      28   BIC:                             318.3\n",
       "Df Model:                           2                                         \n",
       "Covariance Type:            nonrobust                                         \n",
       "==============================================================================\n",
       "                 coef    std err          t      P>|t|      [0.025      0.975]\n",
       "------------------------------------------------------------------------------\n",
       "const          0.3076     23.330      0.013      0.990     -47.482      48.097\n",
       "HIT           -0.2172      0.882     -0.246      0.807      -2.023       1.589\n",
       "BLK            0.3277      1.355      0.242      0.811      -2.448       3.103\n",
       "==============================================================================\n",
       "Omnibus:                       14.356   Durbin-Watson:                   2.136\n",
       "Prob(Omnibus):                  0.001   Jarque-Bera (JB):               16.738\n",
       "Skew:                          -1.220   Prob(JB):                     0.000232\n",
       "Kurtosis:                       5.646   Cond. No.                         200.\n",
       "==============================================================================\n",
       "\n",
       "Notes:\n",
       "[1] Standard Errors assume that the covariance matrix of the errors is correctly specified.\n",
       "\"\"\""
      ]
     },
     "execution_count": 35,
     "metadata": {},
     "output_type": "execute_result"
    }
   ],
   "source": [
    "X = sm.add_constant(teamsdata[['HIT', 'BLK']])\n",
    "\n",
    "model = sm.OLS(teamsdata['NG'], X).fit()\n",
    "\n",
    "model.summary()"
   ]
  },
  {
   "cell_type": "markdown",
   "metadata": {},
   "source": [
    "### according to our $R^2$ this model can only account for 2% of our data and none of our parameters are statistically significant, clearly we need to search more and find a model that actually works as neither HITS or BLOCKS alone reveal much, perhaps we could use another defensive metric or account for different amounts of time on ice by cratig a HITS/Minute or BLOCKS/Minute statistic."
   ]
  },
  {
   "cell_type": "markdown",
   "metadata": {},
   "source": [
    "***\n",
    "## Step 4: Caclulate a players net goals contributed\n",
    "***\n",
    "\n",
    "### The formula for this is quate straight forward \n",
    "\n",
    "### $$NetGoalsContributed = GoalsCreated - GoalsAllowed$$\n",
    "\n",
    "### Since we do not have a working GoalsAllowed model I will be using the +/- hockey stat in it's stead, +/- is a measure of the net goals the team has recieved while the player is on the ice so it will appear to work well for our purposes but is not appropraite for our final solution as +/- is directly affected by team performance, and we are ultimately looking for player performance.\n",
    "\n",
    "### As you can see below average +/- is a pretty accurate way to estimate a teams goals allowed"
   ]
  },
  {
   "cell_type": "code",
   "execution_count": 26,
   "metadata": {},
   "outputs": [
    {
     "data": {
      "text/html": [
       "<table class=\"simpletable\">\n",
       "<caption>OLS Regression Results</caption>\n",
       "<tr>\n",
       "  <th>Dep. Variable:</th>           <td>NG</td>        <th>  R-squared:         </th> <td>   0.874</td>\n",
       "</tr>\n",
       "<tr>\n",
       "  <th>Model:</th>                   <td>OLS</td>       <th>  Adj. R-squared:    </th> <td>   0.869</td>\n",
       "</tr>\n",
       "<tr>\n",
       "  <th>Method:</th>             <td>Least Squares</td>  <th>  F-statistic:       </th> <td>   200.8</td>\n",
       "</tr>\n",
       "<tr>\n",
       "  <th>Date:</th>             <td>Thu, 01 Apr 2021</td> <th>  Prob (F-statistic):</th> <td>1.45e-14</td>\n",
       "</tr>\n",
       "<tr>\n",
       "  <th>Time:</th>                 <td>03:27:28</td>     <th>  Log-Likelihood:    </th> <td> -121.93</td>\n",
       "</tr>\n",
       "<tr>\n",
       "  <th>No. Observations:</th>      <td>    31</td>      <th>  AIC:               </th> <td>   247.9</td>\n",
       "</tr>\n",
       "<tr>\n",
       "  <th>Df Residuals:</th>          <td>    29</td>      <th>  BIC:               </th> <td>   250.7</td>\n",
       "</tr>\n",
       "<tr>\n",
       "  <th>Df Model:</th>              <td>     1</td>      <th>                     </th>     <td> </td>   \n",
       "</tr>\n",
       "<tr>\n",
       "  <th>Covariance Type:</th>      <td>nonrobust</td>    <th>                     </th>     <td> </td>   \n",
       "</tr>\n",
       "</table>\n",
       "<table class=\"simpletable\">\n",
       "<tr>\n",
       "    <td></td>       <th>coef</th>     <th>std err</th>      <th>t</th>      <th>P>|t|</th>  <th>[0.025</th>    <th>0.975]</th>  \n",
       "</tr>\n",
       "<tr>\n",
       "  <th>const</th> <td>    2.9536</td> <td>    2.304</td> <td>    1.282</td> <td> 0.210</td> <td>   -1.759</td> <td>    7.667</td>\n",
       "</tr>\n",
       "<tr>\n",
       "  <th>+/-</th>   <td>    8.3239</td> <td>    0.587</td> <td>   14.170</td> <td> 0.000</td> <td>    7.122</td> <td>    9.525</td>\n",
       "</tr>\n",
       "</table>\n",
       "<table class=\"simpletable\">\n",
       "<tr>\n",
       "  <th>Omnibus:</th>       <td> 0.251</td> <th>  Durbin-Watson:     </th> <td>   2.219</td>\n",
       "</tr>\n",
       "<tr>\n",
       "  <th>Prob(Omnibus):</th> <td> 0.882</td> <th>  Jarque-Bera (JB):  </th> <td>   0.030</td>\n",
       "</tr>\n",
       "<tr>\n",
       "  <th>Skew:</th>          <td> 0.075</td> <th>  Prob(JB):          </th> <td>   0.985</td>\n",
       "</tr>\n",
       "<tr>\n",
       "  <th>Kurtosis:</th>      <td> 2.966</td> <th>  Cond. No.          </th> <td>    3.94</td>\n",
       "</tr>\n",
       "</table><br/><br/>Notes:<br/>[1] Standard Errors assume that the covariance matrix of the errors is correctly specified."
      ],
      "text/plain": [
       "<class 'statsmodels.iolib.summary.Summary'>\n",
       "\"\"\"\n",
       "                            OLS Regression Results                            \n",
       "==============================================================================\n",
       "Dep. Variable:                     NG   R-squared:                       0.874\n",
       "Model:                            OLS   Adj. R-squared:                  0.869\n",
       "Method:                 Least Squares   F-statistic:                     200.8\n",
       "Date:                Thu, 01 Apr 2021   Prob (F-statistic):           1.45e-14\n",
       "Time:                        03:27:28   Log-Likelihood:                -121.93\n",
       "No. Observations:                  31   AIC:                             247.9\n",
       "Df Residuals:                      29   BIC:                             250.7\n",
       "Df Model:                           1                                         \n",
       "Covariance Type:            nonrobust                                         \n",
       "==============================================================================\n",
       "                 coef    std err          t      P>|t|      [0.025      0.975]\n",
       "------------------------------------------------------------------------------\n",
       "const          2.9536      2.304      1.282      0.210      -1.759       7.667\n",
       "+/-            8.3239      0.587     14.170      0.000       7.122       9.525\n",
       "==============================================================================\n",
       "Omnibus:                        0.251   Durbin-Watson:                   2.219\n",
       "Prob(Omnibus):                  0.882   Jarque-Bera (JB):                0.030\n",
       "Skew:                           0.075   Prob(JB):                        0.985\n",
       "Kurtosis:                       2.966   Cond. No.                         3.94\n",
       "==============================================================================\n",
       "\n",
       "Notes:\n",
       "[1] Standard Errors assume that the covariance matrix of the errors is correctly specified.\n",
       "\"\"\""
      ]
     },
     "execution_count": 26,
     "metadata": {},
     "output_type": "execute_result"
    }
   ],
   "source": [
    "X = sm.add_constant(teamsdata['+/-'])\n",
    "\n",
    "model = sm.OLS(teamsdata['NG'], X).fit()\n",
    "\n",
    "model.summary()"
   ]
  },
  {
   "cell_type": "code",
   "execution_count": 27,
   "metadata": {},
   "outputs": [
    {
     "data": {
      "text/plain": [
       "[<matplotlib.lines.Line2D at 0x7f90c01e2640>]"
      ]
     },
     "execution_count": 27,
     "metadata": {},
     "output_type": "execute_result"
    },
    {
     "data": {
      "image/png": "[encoded data removed]",
      "text/plain": [
       "<Figure size 432x288 with 1 Axes>"
      ]
     },
     "metadata": {
      "needs_background": "light"
     },
     "output_type": "display_data"
    }
   ],
   "source": [
    "x = np.linspace(-25,30,100)\n",
    "y = 2.9536 + 8.3239*x;\n",
    "\n",
    "plt.scatter(teamsdata['+/-'], teamsdata['NG'])\n",
    "plt.plot(x, y, '-r')"
   ]
  },
  {
   "cell_type": "markdown",
   "metadata": {},
   "source": [
    "***\n",
    "## STEP 5: Find Net Goals Above Average\n",
    "***\n",
    "\n",
    "### For this since a player can only replace a player of the same position we will calculate net goals above average with the average being the average net goals at the players position.\n",
    "\n",
    "### $$NetGoalsAboveAverage = NetGoalsContributed - PositionMeanGoalsContributed$$"
   ]
  },
  {
   "cell_type": "markdown",
   "metadata": {},
   "source": [
    "***\n",
    "## STEP 6: Find Wins Above Average\n",
    "***\n",
    "\n",
    "### $$WinsAboveAverage = WAA = Wins(NetGoalsAboveAverage)$$"
   ]
  },
  {
   "cell_type": "markdown",
   "metadata": {},
   "source": [
    "***\n",
    "## Step 7: Test for accuracy\n",
    "***\n",
    "\n",
    "### I have some basic tests belowm these will need to be updated"
   ]
  },
  {
   "cell_type": "code",
   "execution_count": 28,
   "metadata": {},
   "outputs": [
    {
     "name": "stdout",
     "output_type": "stream",
     "text": [
      "7.56714279705573\n"
     ]
    }
   ],
   "source": [
    "mean_pm = playersdata['+/-'].mean()\n",
    "\n",
    "pm = 31;\n",
    "\n",
    "mean_wins = (mean_pm * 0.2411 + 3.857) + 34.904\n",
    "wins = (pm * 0.2411 + 3.857) + 34.904\n",
    "\n",
    "winsAboveAverage = wins - mean_wins;\n",
    "\n",
    "print(winsAboveAverage)"
   ]
  },
  {
   "cell_type": "code",
   "execution_count": 29,
   "metadata": {},
   "outputs": [
    {
     "name": "stdout",
     "output_type": "stream",
     "text": [
      "3.7722225806451637\n"
     ]
    }
   ],
   "source": [
    "mean_wins = teamsdata['W'].mean()\n",
    "\n",
    "#WAA = Wins above Average expected for whole team\n",
    "teamsdata['WAAexpected'] = ((teamsdata['+/-'] * 0.2411 + 3.857) + 34.904) - mean_wins\n",
    "teamsdata['WAAactual'] = teamsdata['W'] - mean_wins\n",
    "teamsdata['WAAerror'] = teamsdata['WAAexpected'] - teamsdata['WAAactual'];\n",
    "\n",
    "print(teamsdata['WAAerror'].mean())"
   ]
  },
  {
   "cell_type": "markdown",
   "metadata": {},
   "source": []
  },
  {
   "cell_type": "code",
   "execution_count": null,
   "metadata": {},
   "outputs": [],
   "source": []
  }
 ],
 "metadata": {
  "kernelspec": {
   "display_name": "Python 3",
   "language": "python",
   "name": "python3"
  },
  "language_info": {
   "codemirror_mode": {
    "name": "ipython",
    "version": 3
   },
   "file_extension": ".py",
   "mimetype": "text/x-python",
   "name": "python",
   "nbconvert_exporter": "python",
   "pygments_lexer": "ipython3",
   "version": "3.8.6"
  }
 },
 "nbformat": 4,
 "nbformat_minor": 4
}
