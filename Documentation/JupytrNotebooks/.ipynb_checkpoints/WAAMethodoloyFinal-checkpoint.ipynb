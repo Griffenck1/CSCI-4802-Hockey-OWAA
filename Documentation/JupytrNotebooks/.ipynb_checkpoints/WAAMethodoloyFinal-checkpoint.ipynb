{
 "cells": [
  {
   "cell_type": "markdown",
   "metadata": {},
   "source": [
    "#### <a id='top'></a>\n",
    "\n",
    "# Creating a Model for a Players Wins Contributed Above Average\n",
    "\n",
    "***\n",
    "## Step 1: Create a Model that relates Net Goals Scored to Wins for teams\n",
    "***\n",
    "### In baseball the run differential (runs scored - runs given up) is often used as a solid estimator for how many games a team has won. So here I plan on seeing if there is a similarly strong correlation between net goals and wins in hockey because we need a model to help us convert a player's contributed goal differential to estimated wins contributed."
   ]
  },
  {
   "cell_type": "code",
   "execution_count": 1,
   "metadata": {},
   "outputs": [
    {
     "data": {
      "text/plain": [
       "<matplotlib.collections.PathCollection at 0x7fe177189f40>"
      ]
     },
     "execution_count": 1,
     "metadata": {},
     "output_type": "execute_result"
    },
    {
     "data": {
      "image/png": "[encoded data removed]",
      "text/plain": [
       "<Figure size 432x288 with 1 Axes>"
      ]
     },
     "metadata": {
      "needs_background": "light"
     },
     "output_type": "display_data"
    }
   ],
   "source": [
    "#Load code dependancies\n",
    "import pandas as pd\n",
    "import numpy as np\n",
    "import matplotlib.pylab as plt\n",
    "import statsmodels.api as sm\n",
    "%matplotlib inline\n",
    "\n",
    "#Load the Data Sets (already cleaned)\n",
    "teamsdata = pd.read_csv('teamclean.csv', sep=',')\n",
    "playersdata = pd.read_csv('playerclean.csv', sep=',')\n",
    "teamsDataAdvanced = pd.read_csv('advancedteam20192020.csv', sep=',')\n",
    "playersMisc = pd.read_csv('playersmisc.csv')\n",
    "\n",
    "#Reorder all data alphabetically by team so that tables will match up\n",
    "teamsdata = teamsdata.sort_values('Name')\n",
    "teamsdata.reset_index(inplace=True)\n",
    "\n",
    "playersdata = playersdata.sort_values('Tm')\n",
    "playersdata.reset_index(inplace=True)\n",
    "\n",
    "teamsDataAdvanced = teamsDataAdvanced.sort_values('Tm')\n",
    "teamsDataAdvanced.reset_index(inplace=True)\n",
    "\n",
    "playersMisc = playersMisc.sort_values('Tm')\n",
    "playersMisc.reset_index(inplace=True)\n",
    "\n",
    "#Create net goals\n",
    "teamsdata['NG'] = teamsdata['GF'] - teamsdata['GA']\n",
    "\n",
    "#As you can see there is a clear and very linear correlation between goals for and wins\n",
    "plt.scatter(teamsdata['NG'], teamsdata['W'])"
   ]
  },
  {
   "cell_type": "markdown",
   "metadata": {},
   "source": [
    "### As it turns out the goal differential appears to correlate very very strongly with wins. Next I will plug this data into statsmodels.api OLS method which will fit a model to this data using the Ordinary Least Squares methodology which is fairly standard when creating a linear regression model. This will also give use data about the fit that can help us decide if the model is precise enough to be useful in estimating how many wins a player has contributed to a team."
   ]
  },
  {
   "cell_type": "code",
   "execution_count": 2,
   "metadata": {},
   "outputs": [
    {
     "data": {
      "text/html": [
       "<table class=\"simpletable\">\n",
       "<caption>OLS Regression Results</caption>\n",
       "<tr>\n",
       "  <th>Dep. Variable:</th>            <td>W</td>        <th>  R-squared:         </th> <td>   0.950</td>\n",
       "</tr>\n",
       "<tr>\n",
       "  <th>Model:</th>                   <td>OLS</td>       <th>  Adj. R-squared:    </th> <td>   0.948</td>\n",
       "</tr>\n",
       "<tr>\n",
       "  <th>Method:</th>             <td>Least Squares</td>  <th>  F-statistic:       </th> <td>   546.7</td>\n",
       "</tr>\n",
       "<tr>\n",
       "  <th>Date:</th>             <td>Sun, 25 Apr 2021</td> <th>  Prob (F-statistic):</th> <td>2.29e-20</td>\n",
       "</tr>\n",
       "<tr>\n",
       "  <th>Time:</th>                 <td>11:43:31</td>     <th>  Log-Likelihood:    </th> <td> -51.860</td>\n",
       "</tr>\n",
       "<tr>\n",
       "  <th>No. Observations:</th>      <td>    31</td>      <th>  AIC:               </th> <td>   107.7</td>\n",
       "</tr>\n",
       "<tr>\n",
       "  <th>Df Residuals:</th>          <td>    29</td>      <th>  BIC:               </th> <td>   110.6</td>\n",
       "</tr>\n",
       "<tr>\n",
       "  <th>Df Model:</th>              <td>     1</td>      <th>                     </th>     <td> </td>   \n",
       "</tr>\n",
       "<tr>\n",
       "  <th>Covariance Type:</th>      <td>nonrobust</td>    <th>                     </th>     <td> </td>   \n",
       "</tr>\n",
       "</table>\n",
       "<table class=\"simpletable\">\n",
       "<tr>\n",
       "    <td></td>       <th>coef</th>     <th>std err</th>      <th>t</th>      <th>P>|t|</th>  <th>[0.025</th>    <th>0.975]</th>  \n",
       "</tr>\n",
       "<tr>\n",
       "  <th>const</th> <td>   34.9032</td> <td>    0.239</td> <td>  145.803</td> <td> 0.000</td> <td>   34.414</td> <td>   35.393</td>\n",
       "</tr>\n",
       "<tr>\n",
       "  <th>NG</th>    <td>    0.1609</td> <td>    0.007</td> <td>   23.382</td> <td> 0.000</td> <td>    0.147</td> <td>    0.175</td>\n",
       "</tr>\n",
       "</table>\n",
       "<table class=\"simpletable\">\n",
       "<tr>\n",
       "  <th>Omnibus:</th>       <td> 1.163</td> <th>  Durbin-Watson:     </th> <td>   1.961</td>\n",
       "</tr>\n",
       "<tr>\n",
       "  <th>Prob(Omnibus):</th> <td> 0.559</td> <th>  Jarque-Bera (JB):  </th> <td>   0.910</td>\n",
       "</tr>\n",
       "<tr>\n",
       "  <th>Skew:</th>          <td>-0.407</td> <th>  Prob(JB):          </th> <td>   0.635</td>\n",
       "</tr>\n",
       "<tr>\n",
       "  <th>Kurtosis:</th>      <td> 2.799</td> <th>  Cond. No.          </th> <td>    34.8</td>\n",
       "</tr>\n",
       "</table><br/><br/>Notes:<br/>[1] Standard Errors assume that the covariance matrix of the errors is correctly specified."
      ],
      "text/plain": [
       "<class 'statsmodels.iolib.summary.Summary'>\n",
       "\"\"\"\n",
       "                            OLS Regression Results                            \n",
       "==============================================================================\n",
       "Dep. Variable:                      W   R-squared:                       0.950\n",
       "Model:                            OLS   Adj. R-squared:                  0.948\n",
       "Method:                 Least Squares   F-statistic:                     546.7\n",
       "Date:                Sun, 25 Apr 2021   Prob (F-statistic):           2.29e-20\n",
       "Time:                        11:43:31   Log-Likelihood:                -51.860\n",
       "No. Observations:                  31   AIC:                             107.7\n",
       "Df Residuals:                      29   BIC:                             110.6\n",
       "Df Model:                           1                                         \n",
       "Covariance Type:            nonrobust                                         \n",
       "==============================================================================\n",
       "                 coef    std err          t      P>|t|      [0.025      0.975]\n",
       "------------------------------------------------------------------------------\n",
       "const         34.9032      0.239    145.803      0.000      34.414      35.393\n",
       "NG             0.1609      0.007     23.382      0.000       0.147       0.175\n",
       "==============================================================================\n",
       "Omnibus:                        1.163   Durbin-Watson:                   1.961\n",
       "Prob(Omnibus):                  0.559   Jarque-Bera (JB):                0.910\n",
       "Skew:                          -0.407   Prob(JB):                        0.635\n",
       "Kurtosis:                       2.799   Cond. No.                         34.8\n",
       "==============================================================================\n",
       "\n",
       "Notes:\n",
       "[1] Standard Errors assume that the covariance matrix of the errors is correctly specified.\n",
       "\"\"\""
      ]
     },
     "execution_count": 2,
     "metadata": {},
     "output_type": "execute_result"
    }
   ],
   "source": [
    "#fit a model using Ordinary least squares\n",
    "\n",
    "X = sm.add_constant(teamsdata['NG'])\n",
    "\n",
    "model = sm.OLS(teamsdata['W'], X).fit()\n",
    "\n",
    "model.summary()"
   ]
  },
  {
   "cell_type": "markdown",
   "metadata": {},
   "source": [
    "### It turns out goal differential is insanely good at predicting wins, with 95% of win totals being explained by our model according to our $R^2$ statistic. Additionally the p value for both our constant and our variable (net goals) as well as the P>|F| (essentially a p-value for both our constant and variable) are insanely low and statistically significant beyond a shadow of a doubt.\n",
    "\n",
    "### Using the values above we can now show our model as the function \n",
    "\n",
    "### $$TeamWins \\approx 34.9032 + 0.1608 * TeamNetGoals$$\n",
    "\n",
    "### Now for fun lets lot this function alongside the scatter plot"
   ]
  },
  {
   "cell_type": "code",
   "execution_count": 3,
   "metadata": {},
   "outputs": [
    {
     "data": {
      "text/plain": [
       "Text(0.5, 0, 'Goal Differential')"
      ]
     },
     "execution_count": 3,
     "metadata": {},
     "output_type": "execute_result"
    },
    {
     "data": {
      "image/png": "[encoded data removed]",
      "text/plain": [
       "<Figure size 432x288 with 1 Axes>"
      ]
     },
     "metadata": {
      "needs_background": "light"
     },
     "output_type": "display_data"
    }
   ],
   "source": [
    "x = np.linspace(-140,60,100)\n",
    "y = 34.903 + 0.1609*x;\n",
    "\n",
    "plt.scatter(teamsdata['NG'], teamsdata['W'])\n",
    "plt.plot(x, y, '-r')\n",
    "\n",
    "plt.title(\"Wins vs Goal Differential\")\n",
    "\n",
    "plt.ylabel('Wins')\n",
    "plt.xlabel('Goal Differential')"
   ]
  },
  {
   "cell_type": "markdown",
   "metadata": {},
   "source": [
    "***\n",
    "## Step 2: Attribute offensive production\n",
    "***\n",
    "\n",
    "### Luckily there is already an amazing stat for this in hockey called Goals Created, which is calculated using goals and assists, and the sum of the goals created for all players on a team is equal to the total number of goals scored by this team which makes it almost perfect for us out of the box.\n",
    "\n",
    "$$GC = G_p + 0.5(A_p) * \\frac{G_t}{G_t + 0.5(A_t)}$$\n",
    "\n",
    "### However once we have testing set up and other larger hurdles figured out we may want to revisit this and see if we can make something that attributes offensive goals cotnributed even more accurately."
   ]
  },
  {
   "cell_type": "markdown",
   "metadata": {},
   "source": [
    "***\n",
    "## Step 3: Attribute Defensive Production\n",
    "***\n",
    "\n",
    "### This is a much larger challenge. We tried this many different ways with little success, it is very frustrating to develope regression models for hockey statistics as most hockey statistics depend heavily on preformance from the players team and even opposing team. Many hockey statistics are even computed as X happened Y number of times to this players team while the player was on the ice. As a result hockey statistics are absolutely rife with co-linearity and it is very very difficult to discern a players preformance from a teams preformance. Ultimately the methodology that brought our most accurate model was to take existing advanced statistics and try to normalize for team preformance before fitting to our target variable of Goals Allowed.\n",
    "\n",
    "### To start off we will take a look at a couple pre-existing advanced stats to see how they predict goals allowed.\n",
    "\n",
    "### xGA = Expected Goals Allowed: An advanced stat that calculates how many goals the player (or team) is expected to have allowed using qualities about the shots that were taken against the player/ team. This is because not all shots are equal, for example shots taken from different positions have different goal probabilites, position of shot is one of the things this statistic accounts for.\n",
    "\n",
    "### DPS = Defensive Point Shares: A stat designed to attribute defensive production to players, this stat turned out so bad for our purposes that I won't go in depth as this is the last you will be hearing of it."
   ]
  },
  {
   "cell_type": "code",
   "execution_count": 4,
   "metadata": {},
   "outputs": [
    {
     "name": "stderr",
     "output_type": "stream",
     "text": [
      "<ipython-input-4-0c49cf639cd5>:10: SettingWithCopyWarning: \n",
      "A value is trying to be set on a copy of a slice from a DataFrame\n",
      "\n",
      "See the caveats in the documentation: https://pandas.pydata.org/pandas-docs/stable/user_guide/indexing.html#returning-a-view-versus-a-copy\n",
      "  playersagg['SV%'][31] = 0.920\n"
     ]
    },
    {
     "data": {
      "text/plain": [
       "Text(0.5, 0, 'DPS')"
      ]
     },
     "execution_count": 4,
     "metadata": {},
     "output_type": "execute_result"
    },
    {
     "data": {
      "image/png": "[encoded data removed]",
      "text/plain": [
       "<Figure size 432x288 with 1 Axes>"
      ]
     },
     "metadata": {
      "needs_background": "light"
     },
     "output_type": "display_data"
    }
   ],
   "source": [
    "#Find teams total DPS by aggregating player stats, also put SV% in here for later use\n",
    "playersagg = playersMisc[['Tm', 'DPS']].copy()\n",
    "aggregate_functions = {'DPS' : 'sum'}\n",
    "playersagg = playersagg.groupby(playersagg['Tm'], as_index=False).aggregate(aggregate_functions)\n",
    "\n",
    "playersagg = playersagg.sort_values('Tm')\n",
    "playersagg.reset_index(inplace=True)\n",
    "\n",
    "playersagg['SV%'] = teamsDataAdvanced['SV%']\n",
    "playersagg['SV%'][31] = 0.920\n",
    "\n",
    "#put DPS in teamsdata\n",
    "teamsdata['DPS'] = playersagg['DPS']\n",
    "\n",
    "teamsdata['xGA'] = teamsDataAdvanced['xGA']\n",
    "\n",
    "teamsdata['SV%'] = playersagg['SV%']\n",
    "\n",
    "#plot DPS vs GA\n",
    "plt.scatter(teamsdata['DPS'], teamsdata['GA'])\n",
    "\n",
    "plt.title(\"Goals Allowed vs DPS\")\n",
    "\n",
    "plt.ylabel('Goals Allowed')\n",
    "plt.xlabel('DPS')"
   ]
  },
  {
   "cell_type": "code",
   "execution_count": 5,
   "metadata": {},
   "outputs": [
    {
     "data": {
      "text/plain": [
       "Text(0.5, 0, 'xGA')"
      ]
     },
     "execution_count": 5,
     "metadata": {},
     "output_type": "execute_result"
    },
    {
     "data": {
      "image/png": "[encoded data removed]",
      "text/plain": [
       "<Figure size 432x288 with 1 Axes>"
      ]
     },
     "metadata": {
      "needs_background": "light"
     },
     "output_type": "display_data"
    }
   ],
   "source": [
    "#plot xGA vs GA\n",
    "\n",
    "plt.scatter(teamsdata['xGA'], teamsdata['GA'])\n",
    "\n",
    "plt.title(\"Goals Allowed vs xGA\")\n",
    "\n",
    "plt.ylabel('Goals Allowed')\n",
    "plt.xlabel('xGA')"
   ]
  },
  {
   "cell_type": "markdown",
   "metadata": {},
   "source": [
    "### As you can see both seem to have a linear relationship with goals allowed, albeit fairly loose relationships. Let us run OLS on these to see how well they predict GA."
   ]
  },
  {
   "cell_type": "code",
   "execution_count": 6,
   "metadata": {},
   "outputs": [
    {
     "data": {
      "text/html": [
       "<table class=\"simpletable\">\n",
       "<caption>OLS Regression Results</caption>\n",
       "<tr>\n",
       "  <th>Dep. Variable:</th>           <td>GA</td>        <th>  R-squared:         </th> <td>   0.094</td>\n",
       "</tr>\n",
       "<tr>\n",
       "  <th>Model:</th>                   <td>OLS</td>       <th>  Adj. R-squared:    </th> <td>   0.063</td>\n",
       "</tr>\n",
       "<tr>\n",
       "  <th>Method:</th>             <td>Least Squares</td>  <th>  F-statistic:       </th> <td>   3.026</td>\n",
       "</tr>\n",
       "<tr>\n",
       "  <th>Date:</th>             <td>Sun, 25 Apr 2021</td> <th>  Prob (F-statistic):</th>  <td>0.0925</td> \n",
       "</tr>\n",
       "<tr>\n",
       "  <th>Time:</th>                 <td>11:43:31</td>     <th>  Log-Likelihood:    </th> <td> -134.63</td>\n",
       "</tr>\n",
       "<tr>\n",
       "  <th>No. Observations:</th>      <td>    31</td>      <th>  AIC:               </th> <td>   273.3</td>\n",
       "</tr>\n",
       "<tr>\n",
       "  <th>Df Residuals:</th>          <td>    29</td>      <th>  BIC:               </th> <td>   276.1</td>\n",
       "</tr>\n",
       "<tr>\n",
       "  <th>Df Model:</th>              <td>     1</td>      <th>                     </th>     <td> </td>   \n",
       "</tr>\n",
       "<tr>\n",
       "  <th>Covariance Type:</th>      <td>nonrobust</td>    <th>                     </th>     <td> </td>   \n",
       "</tr>\n",
       "</table>\n",
       "<table class=\"simpletable\">\n",
       "<tr>\n",
       "    <td></td>       <th>coef</th>     <th>std err</th>      <th>t</th>      <th>P>|t|</th>  <th>[0.025</th>    <th>0.975]</th>  \n",
       "</tr>\n",
       "<tr>\n",
       "  <th>const</th> <td>  229.1569</td> <td>   11.118</td> <td>   20.612</td> <td> 0.000</td> <td>  206.418</td> <td>  251.896</td>\n",
       "</tr>\n",
       "<tr>\n",
       "  <th>DPS</th>   <td>   -0.5067</td> <td>    0.291</td> <td>   -1.740</td> <td> 0.093</td> <td>   -1.102</td> <td>    0.089</td>\n",
       "</tr>\n",
       "</table>\n",
       "<table class=\"simpletable\">\n",
       "<tr>\n",
       "  <th>Omnibus:</th>       <td> 1.112</td> <th>  Durbin-Watson:     </th> <td>   2.083</td>\n",
       "</tr>\n",
       "<tr>\n",
       "  <th>Prob(Omnibus):</th> <td> 0.574</td> <th>  Jarque-Bera (JB):  </th> <td>   0.639</td>\n",
       "</tr>\n",
       "<tr>\n",
       "  <th>Skew:</th>          <td> 0.352</td> <th>  Prob(JB):          </th> <td>   0.726</td>\n",
       "</tr>\n",
       "<tr>\n",
       "  <th>Kurtosis:</th>      <td> 3.009</td> <th>  Cond. No.          </th> <td>    123.</td>\n",
       "</tr>\n",
       "</table><br/><br/>Notes:<br/>[1] Standard Errors assume that the covariance matrix of the errors is correctly specified."
      ],
      "text/plain": [
       "<class 'statsmodels.iolib.summary.Summary'>\n",
       "\"\"\"\n",
       "                            OLS Regression Results                            \n",
       "==============================================================================\n",
       "Dep. Variable:                     GA   R-squared:                       0.094\n",
       "Model:                            OLS   Adj. R-squared:                  0.063\n",
       "Method:                 Least Squares   F-statistic:                     3.026\n",
       "Date:                Sun, 25 Apr 2021   Prob (F-statistic):             0.0925\n",
       "Time:                        11:43:31   Log-Likelihood:                -134.63\n",
       "No. Observations:                  31   AIC:                             273.3\n",
       "Df Residuals:                      29   BIC:                             276.1\n",
       "Df Model:                           1                                         \n",
       "Covariance Type:            nonrobust                                         \n",
       "==============================================================================\n",
       "                 coef    std err          t      P>|t|      [0.025      0.975]\n",
       "------------------------------------------------------------------------------\n",
       "const        229.1569     11.118     20.612      0.000     206.418     251.896\n",
       "DPS           -0.5067      0.291     -1.740      0.093      -1.102       0.089\n",
       "==============================================================================\n",
       "Omnibus:                        1.112   Durbin-Watson:                   2.083\n",
       "Prob(Omnibus):                  0.574   Jarque-Bera (JB):                0.639\n",
       "Skew:                           0.352   Prob(JB):                        0.726\n",
       "Kurtosis:                       3.009   Cond. No.                         123.\n",
       "==============================================================================\n",
       "\n",
       "Notes:\n",
       "[1] Standard Errors assume that the covariance matrix of the errors is correctly specified.\n",
       "\"\"\""
      ]
     },
     "execution_count": 6,
     "metadata": {},
     "output_type": "execute_result"
    }
   ],
   "source": [
    "X = sm.add_constant(teamsdata[['DPS']])\n",
    "\n",
    "model = sm.OLS(teamsdata['GA'], X).fit()\n",
    "\n",
    "model.summary()"
   ]
  },
  {
   "cell_type": "code",
   "execution_count": 7,
   "metadata": {},
   "outputs": [
    {
     "data": {
      "text/html": [
       "<table class=\"simpletable\">\n",
       "<caption>OLS Regression Results</caption>\n",
       "<tr>\n",
       "  <th>Dep. Variable:</th>           <td>GA</td>        <th>  R-squared:         </th> <td>   0.244</td>\n",
       "</tr>\n",
       "<tr>\n",
       "  <th>Model:</th>                   <td>OLS</td>       <th>  Adj. R-squared:    </th> <td>   0.218</td>\n",
       "</tr>\n",
       "<tr>\n",
       "  <th>Method:</th>             <td>Least Squares</td>  <th>  F-statistic:       </th> <td>   9.377</td>\n",
       "</tr>\n",
       "<tr>\n",
       "  <th>Date:</th>             <td>Sun, 25 Apr 2021</td> <th>  Prob (F-statistic):</th>  <td>0.00471</td>\n",
       "</tr>\n",
       "<tr>\n",
       "  <th>Time:</th>                 <td>11:43:31</td>     <th>  Log-Likelihood:    </th> <td> -131.82</td>\n",
       "</tr>\n",
       "<tr>\n",
       "  <th>No. Observations:</th>      <td>    31</td>      <th>  AIC:               </th> <td>   267.6</td>\n",
       "</tr>\n",
       "<tr>\n",
       "  <th>Df Residuals:</th>          <td>    29</td>      <th>  BIC:               </th> <td>   270.5</td>\n",
       "</tr>\n",
       "<tr>\n",
       "  <th>Df Model:</th>              <td>     1</td>      <th>                     </th>     <td> </td>   \n",
       "</tr>\n",
       "<tr>\n",
       "  <th>Covariance Type:</th>      <td>nonrobust</td>    <th>                     </th>     <td> </td>   \n",
       "</tr>\n",
       "</table>\n",
       "<table class=\"simpletable\">\n",
       "<tr>\n",
       "    <td></td>       <th>coef</th>     <th>std err</th>      <th>t</th>      <th>P>|t|</th>  <th>[0.025</th>    <th>0.975]</th>  \n",
       "</tr>\n",
       "<tr>\n",
       "  <th>const</th> <td>   84.3148</td> <td>   41.417</td> <td>    2.036</td> <td> 0.051</td> <td>   -0.392</td> <td>  169.021</td>\n",
       "</tr>\n",
       "<tr>\n",
       "  <th>xGA</th>   <td>    0.8844</td> <td>    0.289</td> <td>    3.062</td> <td> 0.005</td> <td>    0.294</td> <td>    1.475</td>\n",
       "</tr>\n",
       "</table>\n",
       "<table class=\"simpletable\">\n",
       "<tr>\n",
       "  <th>Omnibus:</th>       <td> 2.688</td> <th>  Durbin-Watson:     </th> <td>   1.909</td>\n",
       "</tr>\n",
       "<tr>\n",
       "  <th>Prob(Omnibus):</th> <td> 0.261</td> <th>  Jarque-Bera (JB):  </th> <td>   1.604</td>\n",
       "</tr>\n",
       "<tr>\n",
       "  <th>Skew:</th>          <td> 0.534</td> <th>  Prob(JB):          </th> <td>   0.448</td>\n",
       "</tr>\n",
       "<tr>\n",
       "  <th>Kurtosis:</th>      <td> 3.318</td> <th>  Cond. No.          </th> <td>1.88e+03</td>\n",
       "</tr>\n",
       "</table><br/><br/>Notes:<br/>[1] Standard Errors assume that the covariance matrix of the errors is correctly specified.<br/>[2] The condition number is large, 1.88e+03. This might indicate that there are<br/>strong multicollinearity or other numerical problems."
      ],
      "text/plain": [
       "<class 'statsmodels.iolib.summary.Summary'>\n",
       "\"\"\"\n",
       "                            OLS Regression Results                            \n",
       "==============================================================================\n",
       "Dep. Variable:                     GA   R-squared:                       0.244\n",
       "Model:                            OLS   Adj. R-squared:                  0.218\n",
       "Method:                 Least Squares   F-statistic:                     9.377\n",
       "Date:                Sun, 25 Apr 2021   Prob (F-statistic):            0.00471\n",
       "Time:                        11:43:31   Log-Likelihood:                -131.82\n",
       "No. Observations:                  31   AIC:                             267.6\n",
       "Df Residuals:                      29   BIC:                             270.5\n",
       "Df Model:                           1                                         \n",
       "Covariance Type:            nonrobust                                         \n",
       "==============================================================================\n",
       "                 coef    std err          t      P>|t|      [0.025      0.975]\n",
       "------------------------------------------------------------------------------\n",
       "const         84.3148     41.417      2.036      0.051      -0.392     169.021\n",
       "xGA            0.8844      0.289      3.062      0.005       0.294       1.475\n",
       "==============================================================================\n",
       "Omnibus:                        2.688   Durbin-Watson:                   1.909\n",
       "Prob(Omnibus):                  0.261   Jarque-Bera (JB):                1.604\n",
       "Skew:                           0.534   Prob(JB):                        0.448\n",
       "Kurtosis:                       3.318   Cond. No.                     1.88e+03\n",
       "==============================================================================\n",
       "\n",
       "Notes:\n",
       "[1] Standard Errors assume that the covariance matrix of the errors is correctly specified.\n",
       "[2] The condition number is large, 1.88e+03. This might indicate that there are\n",
       "strong multicollinearity or other numerical problems.\n",
       "\"\"\""
      ]
     },
     "execution_count": 7,
     "metadata": {},
     "output_type": "execute_result"
    }
   ],
   "source": [
    "X = sm.add_constant(teamsdata[['xGA']])\n",
    "\n",
    "model = sm.OLS(teamsdata['GA'], X).fit()\n",
    "\n",
    "model.summary()"
   ]
  },
  {
   "cell_type": "markdown",
   "metadata": {},
   "source": [
    "### As you can see both have pretty attrocious abilities to model Goals Allowed considering that their intent was at least implied to do exactly that (with one even being called expected goals allowed)\n",
    "\n",
    "### However xGA has an $R^2$ of 0.244 which while not awesome is much much better that what DPS has to offer. So we will use xGA as a starting place and try to see if we can include other team data in an attempt to get a better model.\n",
    "\n",
    "### The two stats we found most helpful were the following\n",
    "\n",
    "### SV%: The percentage of the the teams goalies save a goal for said team\n",
    "\n",
    "### CF%: Shots on goal for divided by shots on goal against, often used as a proxy for percentage of the time that a team is in possession of the puck (very important in hockey as you can't shoot if you don't have the puck)"
   ]
  },
  {
   "cell_type": "code",
   "execution_count": 8,
   "metadata": {},
   "outputs": [
    {
     "data": {
      "text/html": [
       "<table class=\"simpletable\">\n",
       "<caption>OLS Regression Results</caption>\n",
       "<tr>\n",
       "  <th>Dep. Variable:</th>           <td>GA</td>        <th>  R-squared:         </th> <td>   0.679</td>\n",
       "</tr>\n",
       "<tr>\n",
       "  <th>Model:</th>                   <td>OLS</td>       <th>  Adj. R-squared:    </th> <td>   0.643</td>\n",
       "</tr>\n",
       "<tr>\n",
       "  <th>Method:</th>             <td>Least Squares</td>  <th>  F-statistic:       </th> <td>   19.00</td>\n",
       "</tr>\n",
       "<tr>\n",
       "  <th>Date:</th>             <td>Sun, 25 Apr 2021</td> <th>  Prob (F-statistic):</th> <td>7.92e-07</td>\n",
       "</tr>\n",
       "<tr>\n",
       "  <th>Time:</th>                 <td>11:43:32</td>     <th>  Log-Likelihood:    </th> <td> -118.58</td>\n",
       "</tr>\n",
       "<tr>\n",
       "  <th>No. Observations:</th>      <td>    31</td>      <th>  AIC:               </th> <td>   245.2</td>\n",
       "</tr>\n",
       "<tr>\n",
       "  <th>Df Residuals:</th>          <td>    27</td>      <th>  BIC:               </th> <td>   250.9</td>\n",
       "</tr>\n",
       "<tr>\n",
       "  <th>Df Model:</th>              <td>     3</td>      <th>                     </th>     <td> </td>   \n",
       "</tr>\n",
       "<tr>\n",
       "  <th>Covariance Type:</th>      <td>nonrobust</td>    <th>                     </th>     <td> </td>   \n",
       "</tr>\n",
       "</table>\n",
       "<table class=\"simpletable\">\n",
       "<tr>\n",
       "    <td></td>       <th>coef</th>     <th>std err</th>      <th>t</th>      <th>P>|t|</th>  <th>[0.025</th>    <th>0.975]</th>  \n",
       "</tr>\n",
       "<tr>\n",
       "  <th>const</th> <td> 1984.9233</td> <td>  316.734</td> <td>    6.267</td> <td> 0.000</td> <td> 1335.038</td> <td> 2634.808</td>\n",
       "</tr>\n",
       "<tr>\n",
       "  <th>xGA</th>   <td>    0.6521</td> <td>    0.201</td> <td>    3.238</td> <td> 0.003</td> <td>    0.239</td> <td>    1.065</td>\n",
       "</tr>\n",
       "<tr>\n",
       "  <th>SV%</th>   <td>-1990.4697</td> <td>  330.331</td> <td>   -6.026</td> <td> 0.000</td> <td>-2668.252</td> <td>-1312.687</td>\n",
       "</tr>\n",
       "<tr>\n",
       "  <th>CF%</th>   <td>   -0.5638</td> <td>    0.932</td> <td>   -0.605</td> <td> 0.550</td> <td>   -2.475</td> <td>    1.348</td>\n",
       "</tr>\n",
       "</table>\n",
       "<table class=\"simpletable\">\n",
       "<tr>\n",
       "  <th>Omnibus:</th>       <td> 1.203</td> <th>  Durbin-Watson:     </th> <td>   1.923</td>\n",
       "</tr>\n",
       "<tr>\n",
       "  <th>Prob(Omnibus):</th> <td> 0.548</td> <th>  Jarque-Bera (JB):  </th> <td>   0.543</td>\n",
       "</tr>\n",
       "<tr>\n",
       "  <th>Skew:</th>          <td> 0.313</td> <th>  Prob(JB):          </th> <td>   0.762</td>\n",
       "</tr>\n",
       "<tr>\n",
       "  <th>Kurtosis:</th>      <td> 3.170</td> <th>  Cond. No.          </th> <td>3.25e+04</td>\n",
       "</tr>\n",
       "</table><br/><br/>Notes:<br/>[1] Standard Errors assume that the covariance matrix of the errors is correctly specified.<br/>[2] The condition number is large, 3.25e+04. This might indicate that there are<br/>strong multicollinearity or other numerical problems."
      ],
      "text/plain": [
       "<class 'statsmodels.iolib.summary.Summary'>\n",
       "\"\"\"\n",
       "                            OLS Regression Results                            \n",
       "==============================================================================\n",
       "Dep. Variable:                     GA   R-squared:                       0.679\n",
       "Model:                            OLS   Adj. R-squared:                  0.643\n",
       "Method:                 Least Squares   F-statistic:                     19.00\n",
       "Date:                Sun, 25 Apr 2021   Prob (F-statistic):           7.92e-07\n",
       "Time:                        11:43:32   Log-Likelihood:                -118.58\n",
       "No. Observations:                  31   AIC:                             245.2\n",
       "Df Residuals:                      27   BIC:                             250.9\n",
       "Df Model:                           3                                         \n",
       "Covariance Type:            nonrobust                                         \n",
       "==============================================================================\n",
       "                 coef    std err          t      P>|t|      [0.025      0.975]\n",
       "------------------------------------------------------------------------------\n",
       "const       1984.9233    316.734      6.267      0.000    1335.038    2634.808\n",
       "xGA            0.6521      0.201      3.238      0.003       0.239       1.065\n",
       "SV%        -1990.4697    330.331     -6.026      0.000   -2668.252   -1312.687\n",
       "CF%           -0.5638      0.932     -0.605      0.550      -2.475       1.348\n",
       "==============================================================================\n",
       "Omnibus:                        1.203   Durbin-Watson:                   1.923\n",
       "Prob(Omnibus):                  0.548   Jarque-Bera (JB):                0.543\n",
       "Skew:                           0.313   Prob(JB):                        0.762\n",
       "Kurtosis:                       3.170   Cond. No.                     3.25e+04\n",
       "==============================================================================\n",
       "\n",
       "Notes:\n",
       "[1] Standard Errors assume that the covariance matrix of the errors is correctly specified.\n",
       "[2] The condition number is large, 3.25e+04. This might indicate that there are\n",
       "strong multicollinearity or other numerical problems.\n",
       "\"\"\""
      ]
     },
     "execution_count": 8,
     "metadata": {},
     "output_type": "execute_result"
    }
   ],
   "source": [
    "X = sm.add_constant(teamsdata[['xGA', 'SV%', 'CF%']])\n",
    "\n",
    "model = sm.OLS(teamsdata['GA'], X).fit()\n",
    "\n",
    "model.summary()"
   ]
  },
  {
   "cell_type": "markdown",
   "metadata": {},
   "source": [
    "### Wow! As you can see that is a huge upgrade. While an $R^2$ of 0.679 is not amazing for a model it is the best we have managed to get after going down many routes and much trial and error. Honestly considering how much of a mess it is to avoid massive co-linearity in hockey statistics I think it is decent.\n",
    "\n",
    "### Now we have a model for Expected Goals Allowed for teams, we will call the statistic derived from this model Improved Expected Goals Allowed or ixGA\n",
    "\n",
    "$$ixGA_t = 1952.6628 + 0.6358xGA_t - 1983.5515SVpercent_t - 0.5638CFpercent_t$$\n",
    "\n",
    "### Now we can apply this model to players so that we get their individual expected goals allowed normalized by team goalie quality and possession percentage of the team\n",
    "\n",
    "$$ixGA_p = 1952.6628 + 0.6358xGA_p - 1983.5515SVpercent_t - 0.5638CFpercentRelative_p$$\n",
    "\n",
    "### This model accounts for variations in xGA resulting from variations in the quality of the goalie of the team that the player is on, essentially trying to normalize for variance in goalie quality.\n",
    "\n",
    "### CFPercentRelative is the measure of how much higher the players teams possession percentage is when the player is on the ice compared to off the ice. Including this statistic counteracts the fact that players will have better stats just from being on a better team as players who bring bad teams up significantly will have that accounted for and players on good teams will have their performance adjusted down if it is found that their presence actually detracts from the team.\n",
    "\n",
    "### now let us calculate ixGA for every player in the league, let's also calculate ixGA for each team in the league and plot ixGA vs GA to see how much tighter out model has become."
   ]
  },
  {
   "cell_type": "code",
   "execution_count": 9,
   "metadata": {},
   "outputs": [
    {
     "name": "stderr",
     "output_type": "stream",
     "text": [
      "<ipython-input-9-e69c5d7aeac2>:6: SettingWithCopyWarning: \n",
      "A value is trying to be set on a copy of a slice from a DataFrame\n",
      "\n",
      "See the caveats in the documentation: https://pandas.pydata.org/pandas-docs/stable/user_guide/indexing.html#returning-a-view-versus-a-copy\n",
      "  playersMisc['SV%'][i] = playersaggTemp['SV%'].array\n",
      "/Users/matt/opt/anaconda3/lib/python3.8/site-packages/pandas/core/indexing.py:670: SettingWithCopyWarning: \n",
      "A value is trying to be set on a copy of a slice from a DataFrame\n",
      "\n",
      "See the caveats in the documentation: https://pandas.pydata.org/pandas-docs/stable/user_guide/indexing.html#returning-a-view-versus-a-copy\n",
      "  iloc._setitem_with_indexer(indexer, value)\n"
     ]
    },
    {
     "ename": "NameError",
     "evalue": "name 'playersDataAdvanced' is not defined",
     "output_type": "error",
     "traceback": [
      "\u001b[0;31m---------------------------------------------------------------------------\u001b[0m",
      "\u001b[0;31mNameError\u001b[0m                                 Traceback (most recent call last)",
      "\u001b[0;32m<ipython-input-9-e69c5d7aeac2>\u001b[0m in \u001b[0;36m<module>\u001b[0;34m\u001b[0m\n\u001b[1;32m     15\u001b[0m \u001b[0;31m#playersDataAdvanced.reset_index(inplace=True)\u001b[0m\u001b[0;34m\u001b[0m\u001b[0;34m\u001b[0m\u001b[0;34m\u001b[0m\u001b[0m\n\u001b[1;32m     16\u001b[0m \u001b[0;34m\u001b[0m\u001b[0m\n\u001b[0;32m---> 17\u001b[0;31m \u001b[0mplayersMisc\u001b[0m\u001b[0;34m[\u001b[0m\u001b[0;34m'CF% rel'\u001b[0m\u001b[0;34m]\u001b[0m \u001b[0;34m=\u001b[0m \u001b[0mplayersDataAdvanced\u001b[0m\u001b[0;34m[\u001b[0m\u001b[0;34m'CF% rel'\u001b[0m\u001b[0;34m]\u001b[0m\u001b[0;34m\u001b[0m\u001b[0;34m\u001b[0m\u001b[0m\n\u001b[0m\u001b[1;32m     18\u001b[0m \u001b[0;34m\u001b[0m\u001b[0m\n\u001b[1;32m     19\u001b[0m \u001b[0mplayersMisc\u001b[0m\u001b[0;34m[\u001b[0m\u001b[0;34m'CF% rel'\u001b[0m\u001b[0;34m]\u001b[0m \u001b[0;34m=\u001b[0m \u001b[0mplayersMisc\u001b[0m\u001b[0;34m[\u001b[0m\u001b[0;34m'CF% rel'\u001b[0m\u001b[0;34m]\u001b[0m\u001b[0;34m.\u001b[0m\u001b[0mfillna\u001b[0m\u001b[0;34m(\u001b[0m\u001b[0;36m0\u001b[0m\u001b[0;34m)\u001b[0m\u001b[0;34m\u001b[0m\u001b[0;34m\u001b[0m\u001b[0m\n",
      "\u001b[0;31mNameError\u001b[0m: name 'playersDataAdvanced' is not defined"
     ]
    }
   ],
   "source": [
    "i = 0\n",
    "playersMisc['SV%'] = 0\n",
    "while(i < playersMisc['Tm'].count()):\n",
    "    playersaggTemp = playersagg[playersagg['Tm'] == playersMisc['Tm'][i]]\n",
    "    #print(playersaggTemp['SV%'].array)\n",
    "    playersMisc['SV%'][i] = playersaggTemp['SV%'].array\n",
    "    #print(playersagg[playersagg['Tm'] == playersMisc['Tm'][i]]['SV%'])\n",
    "    i+=1\n",
    "\n",
    "#print(playersMisc['SV%'])\n",
    "\n",
    "playersMisc['ixGA'] = 1952.6628 + (0.6358 * playersMisc['xGA']) - (1983.5515 * playersMisc['SV%'])\n",
    "\n",
    "#playersDataAdvanced = playersDataAdvanced.sort_values('Tm')\n",
    "#playersDataAdvanced.reset_index(inplace=True)\n",
    "\n",
    "playersMisc['CF% rel'] = playersDataAdvanced['CF% rel']\n",
    "\n",
    "playersMisc['CF% rel'] = playersMisc['CF% rel'].fillna(0)\n",
    "\n",
    "playersMisc['ixGA'] = 1952.6628 + (0.6358 * playersMisc['xGA']) - (1983.5515 * playersMisc['SV%']) - (0.5637 * playersMisc['CF% rel'])\n",
    "\n",
    "#plt.scatter(teamsdata['xGA'], teamsdata['GA'])\n",
    "#plt.plot(x, y, '-r')\n",
    "\n",
    "teamsdata['ixGA'] = 1952.6628 + (0.6358 * teamsdata['xGA']) - (1983.5515 * teamsdata['SV%']) - (0.5638 * teamsdata['CF%'])\n",
    "\n",
    "plt.scatter(teamsdata['ixGA'], teamsdata['GA'])\n",
    "\n",
    "plt.title(\"Goals Allowed vs ixGA\")\n",
    "\n",
    "plt.ylabel('Goals Allowed')\n",
    "plt.xlabel('ixGA')"
   ]
  },
  {
   "cell_type": "markdown",
   "metadata": {},
   "source": [
    "### As you can see the linear relationship between ixGA and Goals Allowed is much stronger than just xGA"
   ]
  },
  {
   "cell_type": "markdown",
   "metadata": {},
   "source": [
    "***\n",
    "## Step 4: Caclulate a players net goals contributed\n",
    "***\n",
    "\n",
    "### The formula for this is quate straight forward \n",
    "\n",
    "### $$NetGoalsContributed = GC - ixGA$$\n",
    "\n",
    "### Let us apply that for every player in our data to use for testing later"
   ]
  },
  {
   "cell_type": "code",
   "execution_count": null,
   "metadata": {},
   "outputs": [],
   "source": [
    "playersMisc['NG'] = playersMisc['GC'] - playersMisc['ixGA'][0]"
   ]
  },
  {
   "cell_type": "markdown",
   "metadata": {},
   "source": [
    "***\n",
    "## STEP 5: Find Net Goals Above Average\n",
    "***\n",
    "\n",
    "### This is Wins Above Average so we will need to find how many net goals a player contributes compared to average, Net Goals Above Average or NGABAVG\n",
    "\n",
    "$$ NG_p - LeagueAverageNG = NGABAVG $$"
   ]
  },
  {
   "cell_type": "code",
   "execution_count": null,
   "metadata": {},
   "outputs": [],
   "source": [
    "playersMiscNGAVG = playersMisc['NG'].mean();\n",
    "\n",
    "playersMisc['NGABAVG'] = playersMisc['NG'] - playersMiscNGAVG\n",
    "\n",
    "#Also quickly print mean win totals for teams\n",
    "print(\"Also Here is the mean team wins for the league to be used below: \" + str(teamsdata['W'].mean()))"
   ]
  },
  {
   "cell_type": "markdown",
   "metadata": {},
   "source": [
    "***\n",
    "## STEP 6: Find Wins Above Average\n",
    "***\n",
    "\n",
    "$$W_t = f(NG) = 34.9032 + 0.1609NG$$\n",
    "\n",
    "### Considering that 34.9032 is the league average number of wins as shown above we can say the following\n",
    "\n",
    "$$ W_t = WAA_t + 34.9032 $$\n",
    "\n",
    "$$WAA_t = \\sum{WAA_p}$$\n",
    "\n",
    "$$WAA_p = f(NG) = 0.1609NG$$\n",
    "\n",
    "## Now let us calculate a WAA statistic for every player in our data"
   ]
  },
  {
   "cell_type": "code",
   "execution_count": null,
   "metadata": {},
   "outputs": [],
   "source": [
    "playersMisc['WAA'] = (0.1609 * playersMisc['NGABAVG'])"
   ]
  },
  {
   "cell_type": "markdown",
   "metadata": {},
   "source": [
    "***\n",
    "## Step 7: Test for accuracy\n",
    "***\n",
    "\n",
    "-To test we calculated a WAA stat for every player in the NHL.\n",
    "-A teams WAA stat is the sum of the WAA stat for all players so we compared each teams WAA + meanTeamWins to the teams actual wins.\n",
    "\n",
    "### A teams WAA stat is the sum of the WAA stat for all players.\n",
    "\n",
    "### Therefore to test we calculated WAA stats for teams by summing up the WAA stats for all the players on said team, we then compared $W_leagueAvg + WAA_t$ to actual wins and calculated mean error.\n"
   ]
  },
  {
   "cell_type": "code",
   "execution_count": null,
   "metadata": {},
   "outputs": [],
   "source": [
    "TeamWinsAVG = teamsdata['W'].mean()\n",
    "\n",
    "playersagg = playersMisc[['Tm', 'WAA', 'DPS', 'OPS']].copy()\n",
    "aggregate_functions = {'WAA' : 'sum', 'DPS' : 'sum', 'OPS' : 'sum'}\n",
    "playersagg = playersagg.groupby(playersagg['Tm'], as_index=False).aggregate(aggregate_functions)\n",
    "\n",
    "teamsdata['TeamWAA'] = playersagg['WAA']\n",
    "\n",
    "teamsdata['eWins'] = teamsdata['TeamWAA'] + TeamWinsAVG\n",
    "\n",
    "teamsdata['Error'] = teamsdata['eWins'] - teamsdata['W']\n",
    "\n",
    "teamsdata['DPS'] = playersagg['DPS']\n",
    "\n",
    "teamsdata['OPS'] = playersagg['OPS']\n",
    "\n",
    "print(\"The mean error from our model is \" + str(abs(teamsdata['Error']).mean()) + \" wins.\")\n",
    "print(\"or \" + str(abs(teamsdata['Error']/teamsdata['W']).mean()) + \" in decimal form.\")"
   ]
  },
  {
   "cell_type": "markdown",
   "metadata": {},
   "source": [
    "### We found that the mean error between a teams $W_leagueAvg + WAA_t$ and a teams actual wins was approximately 6.803 wins (raw) or 20.74%.\n",
    "\n",
    "### This is not a particularly amazing model but considering all the challenges we encountered and the fact that nobody has created a model trusted enough for hockeyreference.com yet we feel pretty good about it.\n",
    "\n",
    "### Anyways let us do one more sanity check, many outlets consider Connor McDavid to be the best player in the league, let is find the highest WAA in the league and make sure that McGregor is at least comparable."
   ]
  },
  {
   "cell_type": "code",
   "execution_count": 10,
   "metadata": {},
   "outputs": [
    {
     "name": "stdout",
     "output_type": "stream",
     "text": [
      "league best WAA: \n"
     ]
    },
    {
     "ename": "KeyError",
     "evalue": "'WAA'",
     "output_type": "error",
     "traceback": [
      "\u001b[0;31m---------------------------------------------------------------------------\u001b[0m",
      "\u001b[0;31mKeyError\u001b[0m                                  Traceback (most recent call last)",
      "\u001b[0;32m~/opt/anaconda3/lib/python3.8/site-packages/pandas/core/indexes/base.py\u001b[0m in \u001b[0;36mget_loc\u001b[0;34m(self, key, method, tolerance)\u001b[0m\n\u001b[1;32m   2894\u001b[0m             \u001b[0;32mtry\u001b[0m\u001b[0;34m:\u001b[0m\u001b[0;34m\u001b[0m\u001b[0;34m\u001b[0m\u001b[0m\n\u001b[0;32m-> 2895\u001b[0;31m                 \u001b[0;32mreturn\u001b[0m \u001b[0mself\u001b[0m\u001b[0;34m.\u001b[0m\u001b[0m_engine\u001b[0m\u001b[0;34m.\u001b[0m\u001b[0mget_loc\u001b[0m\u001b[0;34m(\u001b[0m\u001b[0mcasted_key\u001b[0m\u001b[0;34m)\u001b[0m\u001b[0;34m\u001b[0m\u001b[0;34m\u001b[0m\u001b[0m\n\u001b[0m\u001b[1;32m   2896\u001b[0m             \u001b[0;32mexcept\u001b[0m \u001b[0mKeyError\u001b[0m \u001b[0;32mas\u001b[0m \u001b[0merr\u001b[0m\u001b[0;34m:\u001b[0m\u001b[0;34m\u001b[0m\u001b[0;34m\u001b[0m\u001b[0m\n",
      "\u001b[0;32mpandas/_libs/index.pyx\u001b[0m in \u001b[0;36mpandas._libs.index.IndexEngine.get_loc\u001b[0;34m()\u001b[0m\n",
      "\u001b[0;32mpandas/_libs/index.pyx\u001b[0m in \u001b[0;36mpandas._libs.index.IndexEngine.get_loc\u001b[0;34m()\u001b[0m\n",
      "\u001b[0;32mpandas/_libs/hashtable_class_helper.pxi\u001b[0m in \u001b[0;36mpandas._libs.hashtable.PyObjectHashTable.get_item\u001b[0;34m()\u001b[0m\n",
      "\u001b[0;32mpandas/_libs/hashtable_class_helper.pxi\u001b[0m in \u001b[0;36mpandas._libs.hashtable.PyObjectHashTable.get_item\u001b[0;34m()\u001b[0m\n",
      "\u001b[0;31mKeyError\u001b[0m: 'WAA'",
      "\nThe above exception was the direct cause of the following exception:\n",
      "\u001b[0;31mKeyError\u001b[0m                                  Traceback (most recent call last)",
      "\u001b[0;32m<ipython-input-10-79a9b79fcefa>\u001b[0m in \u001b[0;36m<module>\u001b[0;34m\u001b[0m\n\u001b[1;32m      1\u001b[0m \u001b[0mprint\u001b[0m\u001b[0;34m(\u001b[0m\u001b[0;34m\"league best WAA: \"\u001b[0m\u001b[0;34m)\u001b[0m\u001b[0;34m\u001b[0m\u001b[0;34m\u001b[0m\u001b[0m\n\u001b[0;32m----> 2\u001b[0;31m \u001b[0mprint\u001b[0m\u001b[0;34m(\u001b[0m\u001b[0mplayersMisc\u001b[0m\u001b[0;34m[\u001b[0m\u001b[0;34m'WAA'\u001b[0m\u001b[0;34m]\u001b[0m\u001b[0;34m.\u001b[0m\u001b[0mmax\u001b[0m\u001b[0;34m(\u001b[0m\u001b[0;34m)\u001b[0m\u001b[0;34m)\u001b[0m\u001b[0;34m\u001b[0m\u001b[0;34m\u001b[0m\u001b[0m\n\u001b[0m\u001b[1;32m      3\u001b[0m \u001b[0mprint\u001b[0m\u001b[0;34m(\u001b[0m\u001b[0mplayersMisc\u001b[0m\u001b[0;34m[\u001b[0m\u001b[0mplayersMisc\u001b[0m\u001b[0;34m[\u001b[0m\u001b[0;34m'WAA'\u001b[0m\u001b[0;34m]\u001b[0m \u001b[0;34m==\u001b[0m \u001b[0;36m6.027404868548775\u001b[0m\u001b[0;34m]\u001b[0m\u001b[0;34m[\u001b[0m\u001b[0;34m'Player'\u001b[0m\u001b[0;34m]\u001b[0m\u001b[0;34m)\u001b[0m\u001b[0;34m\u001b[0m\u001b[0;34m\u001b[0m\u001b[0m\n\u001b[1;32m      4\u001b[0m \u001b[0mprint\u001b[0m\u001b[0;34m(\u001b[0m\u001b[0;34m\"\"\u001b[0m\u001b[0;34m)\u001b[0m\u001b[0;34m\u001b[0m\u001b[0;34m\u001b[0m\u001b[0m\n\u001b[1;32m      5\u001b[0m \u001b[0mprint\u001b[0m\u001b[0;34m(\u001b[0m\u001b[0;34m\"Connor McDavid WAA: \"\u001b[0m\u001b[0;34m)\u001b[0m\u001b[0;34m\u001b[0m\u001b[0;34m\u001b[0m\u001b[0m\n",
      "\u001b[0;32m~/opt/anaconda3/lib/python3.8/site-packages/pandas/core/frame.py\u001b[0m in \u001b[0;36m__getitem__\u001b[0;34m(self, key)\u001b[0m\n\u001b[1;32m   2900\u001b[0m             \u001b[0;32mif\u001b[0m \u001b[0mself\u001b[0m\u001b[0;34m.\u001b[0m\u001b[0mcolumns\u001b[0m\u001b[0;34m.\u001b[0m\u001b[0mnlevels\u001b[0m \u001b[0;34m>\u001b[0m \u001b[0;36m1\u001b[0m\u001b[0;34m:\u001b[0m\u001b[0;34m\u001b[0m\u001b[0;34m\u001b[0m\u001b[0m\n\u001b[1;32m   2901\u001b[0m                 \u001b[0;32mreturn\u001b[0m \u001b[0mself\u001b[0m\u001b[0;34m.\u001b[0m\u001b[0m_getitem_multilevel\u001b[0m\u001b[0;34m(\u001b[0m\u001b[0mkey\u001b[0m\u001b[0;34m)\u001b[0m\u001b[0;34m\u001b[0m\u001b[0;34m\u001b[0m\u001b[0m\n\u001b[0;32m-> 2902\u001b[0;31m             \u001b[0mindexer\u001b[0m \u001b[0;34m=\u001b[0m \u001b[0mself\u001b[0m\u001b[0;34m.\u001b[0m\u001b[0mcolumns\u001b[0m\u001b[0;34m.\u001b[0m\u001b[0mget_loc\u001b[0m\u001b[0;34m(\u001b[0m\u001b[0mkey\u001b[0m\u001b[0;34m)\u001b[0m\u001b[0;34m\u001b[0m\u001b[0;34m\u001b[0m\u001b[0m\n\u001b[0m\u001b[1;32m   2903\u001b[0m             \u001b[0;32mif\u001b[0m \u001b[0mis_integer\u001b[0m\u001b[0;34m(\u001b[0m\u001b[0mindexer\u001b[0m\u001b[0;34m)\u001b[0m\u001b[0;34m:\u001b[0m\u001b[0;34m\u001b[0m\u001b[0;34m\u001b[0m\u001b[0m\n\u001b[1;32m   2904\u001b[0m                 \u001b[0mindexer\u001b[0m \u001b[0;34m=\u001b[0m \u001b[0;34m[\u001b[0m\u001b[0mindexer\u001b[0m\u001b[0;34m]\u001b[0m\u001b[0;34m\u001b[0m\u001b[0;34m\u001b[0m\u001b[0m\n",
      "\u001b[0;32m~/opt/anaconda3/lib/python3.8/site-packages/pandas/core/indexes/base.py\u001b[0m in \u001b[0;36mget_loc\u001b[0;34m(self, key, method, tolerance)\u001b[0m\n\u001b[1;32m   2895\u001b[0m                 \u001b[0;32mreturn\u001b[0m \u001b[0mself\u001b[0m\u001b[0;34m.\u001b[0m\u001b[0m_engine\u001b[0m\u001b[0;34m.\u001b[0m\u001b[0mget_loc\u001b[0m\u001b[0;34m(\u001b[0m\u001b[0mcasted_key\u001b[0m\u001b[0;34m)\u001b[0m\u001b[0;34m\u001b[0m\u001b[0;34m\u001b[0m\u001b[0m\n\u001b[1;32m   2896\u001b[0m             \u001b[0;32mexcept\u001b[0m \u001b[0mKeyError\u001b[0m \u001b[0;32mas\u001b[0m \u001b[0merr\u001b[0m\u001b[0;34m:\u001b[0m\u001b[0;34m\u001b[0m\u001b[0;34m\u001b[0m\u001b[0m\n\u001b[0;32m-> 2897\u001b[0;31m                 \u001b[0;32mraise\u001b[0m \u001b[0mKeyError\u001b[0m\u001b[0;34m(\u001b[0m\u001b[0mkey\u001b[0m\u001b[0;34m)\u001b[0m \u001b[0;32mfrom\u001b[0m \u001b[0merr\u001b[0m\u001b[0;34m\u001b[0m\u001b[0;34m\u001b[0m\u001b[0m\n\u001b[0m\u001b[1;32m   2898\u001b[0m \u001b[0;34m\u001b[0m\u001b[0m\n\u001b[1;32m   2899\u001b[0m         \u001b[0;32mif\u001b[0m \u001b[0mtolerance\u001b[0m \u001b[0;32mis\u001b[0m \u001b[0;32mnot\u001b[0m \u001b[0;32mNone\u001b[0m\u001b[0;34m:\u001b[0m\u001b[0;34m\u001b[0m\u001b[0;34m\u001b[0m\u001b[0m\n",
      "\u001b[0;31mKeyError\u001b[0m: 'WAA'"
     ]
    }
   ],
   "source": [
    "print(\"league best WAA: \")\n",
    "print(playersMisc['WAA'].max())\n",
    "print(playersMisc[playersMisc['WAA'] == 6.027404868548775]['Player'])\n",
    "print(\"\")\n",
    "print(\"Connor McDavid WAA: \")\n",
    "print(playersMisc[playersMisc['Player'] == 'Connor McDavid\\mcdavco01']['WAA'])"
   ]
  },
  {
   "cell_type": "markdown",
   "metadata": {},
   "source": [
    "### Thank goodness Connor McDavid has close to the maximum WAA score so I feel sane"
   ]
  },
  {
   "cell_type": "code",
   "execution_count": null,
   "metadata": {},
   "outputs": [],
   "source": []
  }
 ],
 "metadata": {
  "kernelspec": {
   "display_name": "Python 3",
   "language": "python",
   "name": "python3"
  },
  "language_info": {
   "codemirror_mode": {
    "name": "ipython",
    "version": 3
   },
   "file_extension": ".py",
   "mimetype": "text/x-python",
   "name": "python",
   "nbconvert_exporter": "python",
   "pygments_lexer": "ipython3",
   "version": "3.8.5"
  }
 },
 "nbformat": 4,
 "nbformat_minor": 4
}
